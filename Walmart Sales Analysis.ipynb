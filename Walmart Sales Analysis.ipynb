{
 "cells": [
  {
   "cell_type": "code",
   "execution_count": 52,
   "id": "fc79d5d1",
   "metadata": {},
   "outputs": [],
   "source": [
    "import numpy as np\n",
    "import pandas as pd\n",
    "import matplotlib.pyplot as plt\n",
    "import seaborn as sns\n",
    "from sklearn.preprocessing import LabelEncoder\n",
    "from sklearn.model_selection import train_test_split\n",
    "from sklearn.model_selection import cross_val_score\n",
    "from sklearn.preprocessing import scale\n",
    "from sklearn.metrics import r2_score\n",
    "from sklearn.feature_selection import mutual_info_regression\n",
    "from sklearn.model_selection import GridSearchCV,RandomizedSearchCV\n",
    "from sklearn.neighbors import KNeighborsRegressor\n",
    "from catboost import CatBoostRegressor\n",
    "from xgboost import XGBRegressor\n",
    "from sklearn.svm import SVR\n",
    "from sklearn.ensemble import RandomForestRegressor,AdaBoostRegressor,ExtraTreesRegressor"
   ]
  },
  {
   "cell_type": "code",
   "execution_count": 2,
   "id": "a00fc12b",
   "metadata": {},
   "outputs": [],
   "source": [
    "data = pd.read_csv('train.csv')"
   ]
  },
  {
   "cell_type": "code",
   "execution_count": 4,
   "id": "8f0586f6",
   "metadata": {},
   "outputs": [
    {
     "data": {
      "text/html": [
       "<div>\n",
       "<style scoped>\n",
       "    .dataframe tbody tr th:only-of-type {\n",
       "        vertical-align: middle;\n",
       "    }\n",
       "\n",
       "    .dataframe tbody tr th {\n",
       "        vertical-align: top;\n",
       "    }\n",
       "\n",
       "    .dataframe thead th {\n",
       "        text-align: right;\n",
       "    }\n",
       "</style>\n",
       "<table border=\"1\" class=\"dataframe\">\n",
       "  <thead>\n",
       "    <tr style=\"text-align: right;\">\n",
       "      <th></th>\n",
       "      <th>Store</th>\n",
       "      <th>Dept</th>\n",
       "      <th>Date</th>\n",
       "      <th>Weekly_Sales</th>\n",
       "      <th>IsHoliday</th>\n",
       "      <th>Temperature</th>\n",
       "      <th>Fuel_Price</th>\n",
       "      <th>MarkDown1</th>\n",
       "      <th>MarkDown2</th>\n",
       "      <th>MarkDown3</th>\n",
       "      <th>MarkDown4</th>\n",
       "      <th>MarkDown5</th>\n",
       "      <th>CPI</th>\n",
       "      <th>Unemployment</th>\n",
       "      <th>Type</th>\n",
       "      <th>Size</th>\n",
       "    </tr>\n",
       "  </thead>\n",
       "  <tbody>\n",
       "    <tr>\n",
       "      <th>0</th>\n",
       "      <td>26</td>\n",
       "      <td>92</td>\n",
       "      <td>2011-08-26</td>\n",
       "      <td>87235.57</td>\n",
       "      <td>False</td>\n",
       "      <td>61.10</td>\n",
       "      <td>3.796</td>\n",
       "      <td>NaN</td>\n",
       "      <td>NaN</td>\n",
       "      <td>NaN</td>\n",
       "      <td>NaN</td>\n",
       "      <td>NaN</td>\n",
       "      <td>136.213613</td>\n",
       "      <td>7.767</td>\n",
       "      <td>A</td>\n",
       "      <td>152513</td>\n",
       "    </tr>\n",
       "    <tr>\n",
       "      <th>1</th>\n",
       "      <td>34</td>\n",
       "      <td>22</td>\n",
       "      <td>2011-03-25</td>\n",
       "      <td>5945.97</td>\n",
       "      <td>False</td>\n",
       "      <td>53.11</td>\n",
       "      <td>3.480</td>\n",
       "      <td>NaN</td>\n",
       "      <td>NaN</td>\n",
       "      <td>NaN</td>\n",
       "      <td>NaN</td>\n",
       "      <td>NaN</td>\n",
       "      <td>128.616064</td>\n",
       "      <td>10.398</td>\n",
       "      <td>A</td>\n",
       "      <td>158114</td>\n",
       "    </tr>\n",
       "  </tbody>\n",
       "</table>\n",
       "</div>"
      ],
      "text/plain": [
       "   Store  Dept        Date  Weekly_Sales  IsHoliday  Temperature  Fuel_Price  \\\n",
       "0     26    92  2011-08-26      87235.57      False        61.10       3.796   \n",
       "1     34    22  2011-03-25       5945.97      False        53.11       3.480   \n",
       "\n",
       "   MarkDown1  MarkDown2  MarkDown3  MarkDown4  MarkDown5         CPI  \\\n",
       "0        NaN        NaN        NaN        NaN        NaN  136.213613   \n",
       "1        NaN        NaN        NaN        NaN        NaN  128.616064   \n",
       "\n",
       "   Unemployment Type    Size  \n",
       "0         7.767    A  152513  \n",
       "1        10.398    A  158114  "
      ]
     },
     "execution_count": 4,
     "metadata": {},
     "output_type": "execute_result"
    }
   ],
   "source": [
    "data.head(2)"
   ]
  },
  {
   "cell_type": "code",
   "execution_count": 5,
   "id": "54dafb86",
   "metadata": {},
   "outputs": [
    {
     "data": {
      "text/plain": [
       "(282451, 16)"
      ]
     },
     "execution_count": 5,
     "metadata": {},
     "output_type": "execute_result"
    }
   ],
   "source": [
    "data.shape"
   ]
  },
  {
   "cell_type": "code",
   "execution_count": 6,
   "id": "da079fc8",
   "metadata": {},
   "outputs": [
    {
     "data": {
      "text/plain": [
       "<bound method NDFrame.describe of         Store  Dept        Date  Weekly_Sales  IsHoliday  Temperature  \\\n",
       "0          26    92  2011-08-26      87235.57      False        61.10   \n",
       "1          34    22  2011-03-25       5945.97      False        53.11   \n",
       "2          21    28  2010-12-03       1219.89      False        50.43   \n",
       "3           8     9  2010-09-17      11972.71      False        75.32   \n",
       "4          19    55  2012-05-18       8271.82      False        58.81   \n",
       "...       ...   ...         ...           ...        ...          ...   \n",
       "282446     27    18  2012-10-19      20775.91      False        56.53   \n",
       "282447     39    36  2010-05-21       5350.00      False        76.67   \n",
       "282448     14    29  2010-04-30      10939.87      False        53.15   \n",
       "282449     15    90  2011-07-01       5013.89      False        67.43   \n",
       "282450     13    32  2011-10-14       8103.12      False        51.74   \n",
       "\n",
       "        Fuel_Price  MarkDown1  MarkDown2  MarkDown3  MarkDown4  MarkDown5  \\\n",
       "0            3.796        NaN        NaN        NaN        NaN        NaN   \n",
       "1            3.480        NaN        NaN        NaN        NaN        NaN   \n",
       "2            2.708        NaN        NaN        NaN        NaN        NaN   \n",
       "3            2.582        NaN        NaN        NaN        NaN        NaN   \n",
       "4            4.029   12613.98        NaN      11.50    1705.28    3600.79   \n",
       "...            ...        ...        ...        ...        ...        ...   \n",
       "282446       4.153    2639.32        NaN       4.77     575.48    3147.23   \n",
       "282447       2.826        NaN        NaN        NaN        NaN        NaN   \n",
       "282448       2.921        NaN        NaN        NaN        NaN        NaN   \n",
       "282449       3.916        NaN        NaN        NaN        NaN        NaN   \n",
       "282450       3.567        NaN        NaN        NaN        NaN        NaN   \n",
       "\n",
       "               CPI  Unemployment Type    Size  \n",
       "0       136.213613         7.767    A  152513  \n",
       "1       128.616064        10.398    A  158114  \n",
       "2       211.265543         8.163    B  140167  \n",
       "3       214.878556         6.315    A  155078  \n",
       "4       138.106581         8.150    A  203819  \n",
       "...            ...           ...  ...     ...  \n",
       "282446  142.863363         8.000    A  204184  \n",
       "282447  209.392294         8.464    A  184109  \n",
       "282448  181.662036         8.899    A  200898  \n",
       "282449  135.446800         7.806    B  123737  \n",
       "282450  129.770645         6.392    A  219622  \n",
       "\n",
       "[282451 rows x 16 columns]>"
      ]
     },
     "execution_count": 6,
     "metadata": {},
     "output_type": "execute_result"
    }
   ],
   "source": [
    "data.describe"
   ]
  },
  {
   "cell_type": "code",
   "execution_count": 7,
   "id": "807c9f68",
   "metadata": {
    "scrolled": true
   },
   "outputs": [
    {
     "data": {
      "text/html": [
       "<div>\n",
       "<style scoped>\n",
       "    .dataframe tbody tr th:only-of-type {\n",
       "        vertical-align: middle;\n",
       "    }\n",
       "\n",
       "    .dataframe tbody tr th {\n",
       "        vertical-align: top;\n",
       "    }\n",
       "\n",
       "    .dataframe thead th {\n",
       "        text-align: right;\n",
       "    }\n",
       "</style>\n",
       "<table border=\"1\" class=\"dataframe\">\n",
       "  <thead>\n",
       "    <tr style=\"text-align: right;\">\n",
       "      <th></th>\n",
       "      <th>Store</th>\n",
       "      <th>Dept</th>\n",
       "      <th>Date</th>\n",
       "      <th>Weekly_Sales</th>\n",
       "      <th>IsHoliday</th>\n",
       "      <th>Temperature</th>\n",
       "      <th>Fuel_Price</th>\n",
       "      <th>MarkDown1</th>\n",
       "      <th>MarkDown2</th>\n",
       "      <th>MarkDown3</th>\n",
       "      <th>MarkDown4</th>\n",
       "      <th>MarkDown5</th>\n",
       "      <th>CPI</th>\n",
       "      <th>Unemployment</th>\n",
       "      <th>Type</th>\n",
       "      <th>Size</th>\n",
       "    </tr>\n",
       "  </thead>\n",
       "  <tbody>\n",
       "    <tr>\n",
       "      <th>0</th>\n",
       "      <td>26</td>\n",
       "      <td>92</td>\n",
       "      <td>2011-08-26</td>\n",
       "      <td>87235.57</td>\n",
       "      <td>False</td>\n",
       "      <td>61.10</td>\n",
       "      <td>3.796</td>\n",
       "      <td>NaN</td>\n",
       "      <td>NaN</td>\n",
       "      <td>NaN</td>\n",
       "      <td>NaN</td>\n",
       "      <td>NaN</td>\n",
       "      <td>136.213613</td>\n",
       "      <td>7.767</td>\n",
       "      <td>A</td>\n",
       "      <td>152513</td>\n",
       "    </tr>\n",
       "    <tr>\n",
       "      <th>1</th>\n",
       "      <td>34</td>\n",
       "      <td>22</td>\n",
       "      <td>2011-03-25</td>\n",
       "      <td>5945.97</td>\n",
       "      <td>False</td>\n",
       "      <td>53.11</td>\n",
       "      <td>3.480</td>\n",
       "      <td>NaN</td>\n",
       "      <td>NaN</td>\n",
       "      <td>NaN</td>\n",
       "      <td>NaN</td>\n",
       "      <td>NaN</td>\n",
       "      <td>128.616064</td>\n",
       "      <td>10.398</td>\n",
       "      <td>A</td>\n",
       "      <td>158114</td>\n",
       "    </tr>\n",
       "    <tr>\n",
       "      <th>2</th>\n",
       "      <td>21</td>\n",
       "      <td>28</td>\n",
       "      <td>2010-12-03</td>\n",
       "      <td>1219.89</td>\n",
       "      <td>False</td>\n",
       "      <td>50.43</td>\n",
       "      <td>2.708</td>\n",
       "      <td>NaN</td>\n",
       "      <td>NaN</td>\n",
       "      <td>NaN</td>\n",
       "      <td>NaN</td>\n",
       "      <td>NaN</td>\n",
       "      <td>211.265543</td>\n",
       "      <td>8.163</td>\n",
       "      <td>B</td>\n",
       "      <td>140167</td>\n",
       "    </tr>\n",
       "  </tbody>\n",
       "</table>\n",
       "</div>"
      ],
      "text/plain": [
       "   Store  Dept        Date  Weekly_Sales  IsHoliday  Temperature  Fuel_Price  \\\n",
       "0     26    92  2011-08-26      87235.57      False        61.10       3.796   \n",
       "1     34    22  2011-03-25       5945.97      False        53.11       3.480   \n",
       "2     21    28  2010-12-03       1219.89      False        50.43       2.708   \n",
       "\n",
       "   MarkDown1  MarkDown2  MarkDown3  MarkDown4  MarkDown5         CPI  \\\n",
       "0        NaN        NaN        NaN        NaN        NaN  136.213613   \n",
       "1        NaN        NaN        NaN        NaN        NaN  128.616064   \n",
       "2        NaN        NaN        NaN        NaN        NaN  211.265543   \n",
       "\n",
       "   Unemployment Type    Size  \n",
       "0         7.767    A  152513  \n",
       "1        10.398    A  158114  \n",
       "2         8.163    B  140167  "
      ]
     },
     "execution_count": 7,
     "metadata": {},
     "output_type": "execute_result"
    }
   ],
   "source": [
    "data.head(3)"
   ]
  },
  {
   "cell_type": "code",
   "execution_count": 8,
   "id": "5ec18e99",
   "metadata": {},
   "outputs": [
    {
     "data": {
      "text/plain": [
       "(-2.06, 100.14)"
      ]
     },
     "execution_count": 8,
     "metadata": {},
     "output_type": "execute_result"
    }
   ],
   "source": [
    "data.Temperature.min(),data.Temperature.max()"
   ]
  },
  {
   "cell_type": "code",
   "execution_count": 9,
   "id": "6e9e90ee",
   "metadata": {},
   "outputs": [
    {
     "data": {
      "text/plain": [
       "(-4988.94, 693099.36)"
      ]
     },
     "execution_count": 9,
     "metadata": {},
     "output_type": "execute_result"
    }
   ],
   "source": [
    "data.Weekly_Sales.min(),data.Weekly_Sales.max()"
   ]
  },
  {
   "cell_type": "markdown",
   "id": "46671df7",
   "metadata": {},
   "source": [
    "### Null values"
   ]
  },
  {
   "cell_type": "code",
   "execution_count": 10,
   "id": "47e39d0a",
   "metadata": {
    "scrolled": true
   },
   "outputs": [
    {
     "data": {
      "text/plain": [
       "Store                0\n",
       "Dept                 0\n",
       "Date                 0\n",
       "Weekly_Sales         0\n",
       "IsHoliday            0\n",
       "Temperature          0\n",
       "Fuel_Price           0\n",
       "MarkDown1       181931\n",
       "MarkDown2       208219\n",
       "MarkDown3       190930\n",
       "MarkDown4       192420\n",
       "MarkDown5       181422\n",
       "CPI                  0\n",
       "Unemployment         0\n",
       "Type                 0\n",
       "Size                 0\n",
       "dtype: int64"
      ]
     },
     "execution_count": 10,
     "metadata": {},
     "output_type": "execute_result"
    }
   ],
   "source": [
    "data.isnull().sum()"
   ]
  },
  {
   "cell_type": "code",
   "execution_count": 11,
   "id": "31a2df86",
   "metadata": {},
   "outputs": [
    {
     "name": "stdout",
     "output_type": "stream",
     "text": [
      "64.41152624703047% of values are missing from MarkDown1\n",
      "73.71862730172667% of values are missing from MarkDown2\n",
      "67.59756559544842% of values are missing from MarkDown3\n",
      "68.12509072370074% of values are missing from MarkDown4\n",
      "64.2313179985201% of values are missing from MarkDown5\n"
     ]
    }
   ],
   "source": [
    "null_columns = data.iloc[:,7:12].columns\n",
    "for column in null_columns:\n",
    "    number_missing = data[column].isnull().sum()\n",
    "    percentage_missing = (number_missing/data.shape[0])*100\n",
    "    print(f'{percentage_missing}% of values are missing from {column}')"
   ]
  },
  {
   "cell_type": "markdown",
   "id": "03c64612",
   "metadata": {},
   "source": [
    "#### little EDA"
   ]
  },
  {
   "cell_type": "code",
   "execution_count": 12,
   "id": "867ddd31",
   "metadata": {
    "scrolled": true
   },
   "outputs": [
    {
     "name": "stdout",
     "output_type": "stream",
     "text": [
      "Store: [26 34 21  8 19 13  2 32 45 44  4  6  5 35 28 38 16 36  1 27 22 40 18 42\n",
      " 33 25 10 20 41 30 14 24 37 11 17 23 15  7 29  3 39  9 12 31 43]\n",
      "45 unique Store entries\n"
     ]
    },
    {
     "data": {
      "image/png": "[encoded data removed]",
      "text/plain": [
       "<Figure size 1008x324 with 1 Axes>"
      ]
     },
     "metadata": {
      "needs_background": "light"
     },
     "output_type": "display_data"
    },
    {
     "name": "stdout",
     "output_type": "stream",
     "text": [
      "Dept: [92 22 28  9 55 91 14 82 26 72 19 81 96 23 40 38 95 32 10  4 42 46 34 97\n",
      " 83 48 18 12 60 11 16 33 71 87 94  7  8  3 93 85  1 99 52  2 30 98 27 36\n",
      " 21 25 58  5 31 49 50 35 80 41 90  6 29 54 51 17 67 45 74 13 20 44 59 37\n",
      " 24 79 56 78 47 77 65 43 39]\n",
      "81 unique Dept entries\n"
     ]
    },
    {
     "data": {
      "image/png": "[encoded data removed]",
      "text/plain": [
       "<Figure size 1008x324 with 1 Axes>"
      ]
     },
     "metadata": {
      "needs_background": "light"
     },
     "output_type": "display_data"
    },
    {
     "name": "stdout",
     "output_type": "stream",
     "text": [
      "Type: ['A' 'B' 'C']\n",
      "3 unique Type entries\n"
     ]
    },
    {
     "data": {
      "image/png": "[encoded data removed]",
      "text/plain": [
       "<Figure size 1008x324 with 1 Axes>"
      ]
     },
     "metadata": {
      "needs_background": "light"
     },
     "output_type": "display_data"
    },
    {
     "name": "stdout",
     "output_type": "stream",
     "text": [
      "IsHoliday: [False  True]\n",
      "2 unique IsHoliday entries\n"
     ]
    },
    {
     "data": {
      "image/png": "[encoded data removed]",
      "text/plain": [
       "<Figure size 1008x324 with 1 Axes>"
      ]
     },
     "metadata": {
      "needs_background": "light"
     },
     "output_type": "display_data"
    }
   ],
   "source": [
    "for column in data[['Store','Dept','Type','IsHoliday']].columns:\n",
    "    data[column].value_counts().plot(kind='bar',figsize=(14,4.5))\n",
    "    print(f'{column}:' ,data[column].unique())\n",
    "    print(len(data[column].unique()),f'unique {column} entries')\n",
    "    plt.title(f'{column} by numbers')\n",
    "    plt.show()"
   ]
  },
  {
   "cell_type": "code",
   "execution_count": 13,
   "id": "421609bb",
   "metadata": {},
   "outputs": [
    {
     "data": {
      "text/html": [
       "<div>\n",
       "<style scoped>\n",
       "    .dataframe tbody tr th:only-of-type {\n",
       "        vertical-align: middle;\n",
       "    }\n",
       "\n",
       "    .dataframe tbody tr th {\n",
       "        vertical-align: top;\n",
       "    }\n",
       "\n",
       "    .dataframe thead th {\n",
       "        text-align: right;\n",
       "    }\n",
       "</style>\n",
       "<table border=\"1\" class=\"dataframe\">\n",
       "  <thead>\n",
       "    <tr style=\"text-align: right;\">\n",
       "      <th></th>\n",
       "      <th>Size</th>\n",
       "      <th>Weekly_Sales</th>\n",
       "    </tr>\n",
       "  </thead>\n",
       "  <tbody>\n",
       "    <tr>\n",
       "      <th>Size</th>\n",
       "      <td>1.000000</td>\n",
       "      <td>0.243935</td>\n",
       "    </tr>\n",
       "    <tr>\n",
       "      <th>Weekly_Sales</th>\n",
       "      <td>0.243935</td>\n",
       "      <td>1.000000</td>\n",
       "    </tr>\n",
       "  </tbody>\n",
       "</table>\n",
       "</div>"
      ],
      "text/plain": [
       "                  Size  Weekly_Sales\n",
       "Size          1.000000      0.243935\n",
       "Weekly_Sales  0.243935      1.000000"
      ]
     },
     "execution_count": 13,
     "metadata": {},
     "output_type": "execute_result"
    }
   ],
   "source": [
    "data[['Size','Weekly_Sales']].corr()"
   ]
  },
  {
   "cell_type": "markdown",
   "id": "5b738cc3",
   "metadata": {},
   "source": [
    "#### new columns creation from the date column"
   ]
  },
  {
   "cell_type": "code",
   "execution_count": 14,
   "id": "a9d31fc9",
   "metadata": {},
   "outputs": [],
   "source": [
    "data['Year'] = pd.to_datetime(data['Date']).dt.year"
   ]
  },
  {
   "cell_type": "code",
   "execution_count": 15,
   "id": "b2e28426",
   "metadata": {},
   "outputs": [
    {
     "data": {
      "image/png": "[encoded data removed]",
      "text/plain": [
       "<Figure size 432x324 with 1 Axes>"
      ]
     },
     "metadata": {
      "needs_background": "light"
     },
     "output_type": "display_data"
    },
    {
     "name": "stdout",
     "output_type": "stream",
     "text": [
      "2011    102979\n",
      "2010     94469\n",
      "2012     85003\n",
      "Name: Year, dtype: int64\n"
     ]
    }
   ],
   "source": [
    "data['Year'].value_counts().plot(kind='bar',figsize=(6,4.5))\n",
    "plt.show()\n",
    "print(data['Year'].value_counts())"
   ]
  },
  {
   "cell_type": "code",
   "execution_count": 16,
   "id": "b08fb950",
   "metadata": {},
   "outputs": [],
   "source": [
    "data['Month'] = pd.to_datetime(data['Date']).dt.month"
   ]
  },
  {
   "cell_type": "code",
   "execution_count": 17,
   "id": "a354fdc3",
   "metadata": {},
   "outputs": [],
   "source": [
    "data['Day'] = pd.to_datetime(data['Date']).dt.day"
   ]
  },
  {
   "cell_type": "code",
   "execution_count": 18,
   "id": "42d1fdde",
   "metadata": {},
   "outputs": [
    {
     "data": {
      "image/png": "[encoded data removed]",
      "text/plain": [
       "<Figure size 1008x360 with 1 Axes>"
      ]
     },
     "metadata": {
      "needs_background": "light"
     },
     "output_type": "display_data"
    }
   ],
   "source": [
    "data.groupby('Day').sum()['Weekly_Sales'].plot(kind='bar',figsize=(14,5))\n",
    "plt.show()"
   ]
  },
  {
   "cell_type": "code",
   "execution_count": 19,
   "id": "c67c03d8",
   "metadata": {},
   "outputs": [
    {
     "data": {
      "image/png": "[encoded data removed]",
      "text/plain": [
       "<Figure size 504x324 with 1 Axes>"
      ]
     },
     "metadata": {
      "needs_background": "light"
     },
     "output_type": "display_data"
    }
   ],
   "source": [
    "data.groupby('Year').sum()['Weekly_Sales'].plot(kind='bar',figsize=(7,4.5))\n",
    "plt.show()"
   ]
  },
  {
   "cell_type": "code",
   "execution_count": 20,
   "id": "af814da1",
   "metadata": {},
   "outputs": [
    {
     "data": {
      "image/png": "[encoded data removed]",
      "text/plain": [
       "<Figure size 576x720 with 1 Axes>"
      ]
     },
     "metadata": {
      "needs_background": "light"
     },
     "output_type": "display_data"
    }
   ],
   "source": [
    "pd.DataFrame(data.groupby(['Year','Month']).sum()['Weekly_Sales']).plot(kind='barh',figsize=(8,10))\n",
    "plt.show()"
   ]
  },
  {
   "cell_type": "code",
   "execution_count": 21,
   "id": "aee24e3c",
   "metadata": {},
   "outputs": [
    {
     "data": {
      "image/png": "[encoded data removed]",
      "text/plain": [
       "<Figure size 432x288 with 1 Axes>"
      ]
     },
     "metadata": {
      "needs_background": "light"
     },
     "output_type": "display_data"
    }
   ],
   "source": [
    "plt.scatter(x=data.Size,y= data.Weekly_Sales)\n",
    "plt.ylabel('weekly_sales')\n",
    "plt.xlabel('Size')\n",
    "plt.show()"
   ]
  },
  {
   "cell_type": "markdown",
   "id": "b6e2de38",
   "metadata": {},
   "source": [
    "#### visualizing Markdown columns"
   ]
  },
  {
   "cell_type": "code",
   "execution_count": 22,
   "id": "e9be82ea",
   "metadata": {
    "scrolled": true
   },
   "outputs": [
    {
     "data": {
      "image/png": "[encoded data removed]",
      "text/plain": [
       "<Figure size 432x288 with 1 Axes>"
      ]
     },
     "metadata": {
      "needs_background": "light"
     },
     "output_type": "display_data"
    },
    {
     "data": {
      "image/png": "[encoded data removed]",
      "text/plain": [
       "<Figure size 432x288 with 1 Axes>"
      ]
     },
     "metadata": {
      "needs_background": "light"
     },
     "output_type": "display_data"
    },
    {
     "data": {
      "image/png": "[encoded data removed]",
      "text/plain": [
       "<Figure size 432x288 with 1 Axes>"
      ]
     },
     "metadata": {
      "needs_background": "light"
     },
     "output_type": "display_data"
    },
    {
     "data": {
      "image/png": "[encoded data removed]",
      "text/plain": [
       "<Figure size 432x288 with 1 Axes>"
      ]
     },
     "metadata": {
      "needs_background": "light"
     },
     "output_type": "display_data"
    },
    {
     "data": {
      "image/png": "[encoded data removed]",
      "text/plain": [
       "<Figure size 432x288 with 1 Axes>"
      ]
     },
     "metadata": {
      "needs_background": "light"
     },
     "output_type": "display_data"
    }
   ],
   "source": [
    "null_columns = data.iloc[:,7:12].columns\n",
    "for column in null_columns:\n",
    "    data[column].hist()\n",
    "    plt.title(column)\n",
    "    plt.show()"
   ]
  },
  {
   "cell_type": "markdown",
   "id": "692b0335",
   "metadata": {},
   "source": [
    "#### ways to handle missing data - Dropping ,Filling....\n",
    "#### Dropping the entire columns and testing the model performance on a new data2\n",
    "#### Also serves as a bases of comparism for checking improvement in model performance along the feature enginerring process"
   ]
  },
  {
   "cell_type": "markdown",
   "id": "a3f9a614",
   "metadata": {},
   "source": [
    "#### --using random forest regressor"
   ]
  },
  {
   "cell_type": "code",
   "execution_count": 59,
   "id": "7a8de2c5",
   "metadata": {},
   "outputs": [
    {
     "data": {
      "text/html": [
       "<div>\n",
       "<style scoped>\n",
       "    .dataframe tbody tr th:only-of-type {\n",
       "        vertical-align: middle;\n",
       "    }\n",
       "\n",
       "    .dataframe tbody tr th {\n",
       "        vertical-align: top;\n",
       "    }\n",
       "\n",
       "    .dataframe thead th {\n",
       "        text-align: right;\n",
       "    }\n",
       "</style>\n",
       "<table border=\"1\" class=\"dataframe\">\n",
       "  <thead>\n",
       "    <tr style=\"text-align: right;\">\n",
       "      <th></th>\n",
       "      <th>Store</th>\n",
       "      <th>Dept</th>\n",
       "      <th>Date</th>\n",
       "      <th>Weekly_Sales</th>\n",
       "      <th>IsHoliday</th>\n",
       "      <th>Temperature</th>\n",
       "      <th>Fuel_Price</th>\n",
       "      <th>MarkDown1</th>\n",
       "      <th>MarkDown2</th>\n",
       "      <th>MarkDown3</th>\n",
       "      <th>MarkDown4</th>\n",
       "      <th>MarkDown5</th>\n",
       "      <th>CPI</th>\n",
       "      <th>Unemployment</th>\n",
       "      <th>Type</th>\n",
       "      <th>Size</th>\n",
       "    </tr>\n",
       "  </thead>\n",
       "  <tbody>\n",
       "    <tr>\n",
       "      <th>0</th>\n",
       "      <td>26</td>\n",
       "      <td>92</td>\n",
       "      <td>2011-08-26</td>\n",
       "      <td>87235.57</td>\n",
       "      <td>False</td>\n",
       "      <td>61.10</td>\n",
       "      <td>3.796</td>\n",
       "      <td>NaN</td>\n",
       "      <td>NaN</td>\n",
       "      <td>NaN</td>\n",
       "      <td>NaN</td>\n",
       "      <td>NaN</td>\n",
       "      <td>136.213613</td>\n",
       "      <td>7.767</td>\n",
       "      <td>A</td>\n",
       "      <td>152513</td>\n",
       "    </tr>\n",
       "    <tr>\n",
       "      <th>1</th>\n",
       "      <td>34</td>\n",
       "      <td>22</td>\n",
       "      <td>2011-03-25</td>\n",
       "      <td>5945.97</td>\n",
       "      <td>False</td>\n",
       "      <td>53.11</td>\n",
       "      <td>3.480</td>\n",
       "      <td>NaN</td>\n",
       "      <td>NaN</td>\n",
       "      <td>NaN</td>\n",
       "      <td>NaN</td>\n",
       "      <td>NaN</td>\n",
       "      <td>128.616064</td>\n",
       "      <td>10.398</td>\n",
       "      <td>A</td>\n",
       "      <td>158114</td>\n",
       "    </tr>\n",
       "  </tbody>\n",
       "</table>\n",
       "</div>"
      ],
      "text/plain": [
       "   Store  Dept        Date  Weekly_Sales  IsHoliday  Temperature  Fuel_Price  \\\n",
       "0     26    92  2011-08-26      87235.57      False        61.10       3.796   \n",
       "1     34    22  2011-03-25       5945.97      False        53.11       3.480   \n",
       "\n",
       "   MarkDown1  MarkDown2  MarkDown3  MarkDown4  MarkDown5         CPI  \\\n",
       "0        NaN        NaN        NaN        NaN        NaN  136.213613   \n",
       "1        NaN        NaN        NaN        NaN        NaN  128.616064   \n",
       "\n",
       "   Unemployment Type    Size  \n",
       "0         7.767    A  152513  \n",
       "1        10.398    A  158114  "
      ]
     },
     "execution_count": 59,
     "metadata": {},
     "output_type": "execute_result"
    }
   ],
   "source": [
    "data2 = pd.read_csv('train.csv')\n",
    "data2.head(2)"
   ]
  },
  {
   "cell_type": "code",
   "execution_count": 60,
   "id": "03d09d65",
   "metadata": {},
   "outputs": [],
   "source": [
    "labeller = LabelEncoder()\n",
    "data2.Type = labeller.fit_transform(data2.Type)\n",
    "data2.IsHoliday = labeller.fit_transform(data2.IsHoliday)\n",
    "data2 = data2.drop(['Date','MarkDown1','MarkDown2','MarkDown3','MarkDown4','MarkDown5'],axis=1)\n",
    "X = scale(data2.drop('Weekly_Sales',axis=1))\n",
    "y = data2.Weekly_Sales"
   ]
  },
  {
   "cell_type": "code",
   "execution_count": 61,
   "id": "d4a15faa",
   "metadata": {},
   "outputs": [
    {
     "name": "stdout",
     "output_type": "stream",
     "text": [
      "[0.93742171 0.93468164 0.94335625 0.93210892 0.93328579]\n",
      "cross-validation-score 0.9361708620579856\n"
     ]
    }
   ],
   "source": [
    "x_train,x_test,y_train,y_test = train_test_split(X,y,test_size=0.3,random_state=0)\n",
    "rand = RandomForestRegressor()\n",
    "scores = cross_val_score(rand,X,y,scoring='r2',cv=5)\n",
    "print(scores)\n",
    "print('cross-validation-score',np.mean(scores))"
   ]
  },
  {
   "cell_type": "code",
   "execution_count": 62,
   "id": "c2fc2011",
   "metadata": {},
   "outputs": [
    {
     "data": {
      "text/plain": [
       "0.9328062825710529"
      ]
     },
     "execution_count": 62,
     "metadata": {},
     "output_type": "execute_result"
    }
   ],
   "source": [
    "rand.fit(x_train,y_train)\n",
    "r2_score(y_test,rand.predict(x_test))"
   ]
  },
  {
   "cell_type": "code",
   "execution_count": 27,
   "id": "1760fbe8",
   "metadata": {},
   "outputs": [],
   "source": [
    "### Adding some extra features"
   ]
  },
  {
   "cell_type": "code",
   "execution_count": 28,
   "id": "0e8cd787",
   "metadata": {},
   "outputs": [],
   "source": [
    "### grouping temperature into weather conditions"
   ]
  },
  {
   "cell_type": "code",
   "execution_count": 29,
   "id": "e267ff43",
   "metadata": {},
   "outputs": [],
   "source": [
    "label_names= ['cold','warm','hot']\n",
    "boundaries = [-10,55,75,max(data.Temperature)]\n",
    "data['Temp_Description'] = pd.cut(data['Temperature'],boundaries,labels = label_names)"
   ]
  },
  {
   "cell_type": "code",
   "execution_count": 30,
   "id": "2d4b96f4",
   "metadata": {},
   "outputs": [],
   "source": [
    "## creating new feature based of of clusters"
   ]
  },
  {
   "cell_type": "code",
   "execution_count": 31,
   "id": "3f84f777",
   "metadata": {},
   "outputs": [],
   "source": [
    "from sklearn.cluster import KMeans\n",
    "kmeans = KMeans(n_clusters=3)\n",
    "kmeans.fit(data[['Year','CPI','Fuel_Price','Size','Unemployment']])\n",
    "data['cluster_one'] = kmeans.labels_"
   ]
  },
  {
   "cell_type": "code",
   "execution_count": 32,
   "id": "5c334f95",
   "metadata": {},
   "outputs": [],
   "source": [
    "## filling null values with the median as against dropping them"
   ]
  },
  {
   "cell_type": "code",
   "execution_count": 33,
   "id": "3962c7b7",
   "metadata": {},
   "outputs": [],
   "source": [
    "null_columns = data.iloc[:,7:12].columns\n",
    "for column in null_columns:\n",
    "    data[column] = data[column].fillna(data[column].median())"
   ]
  },
  {
   "cell_type": "code",
   "execution_count": 34,
   "id": "312d6c9b",
   "metadata": {},
   "outputs": [],
   "source": [
    "### label encoding and visualizing correlation"
   ]
  },
  {
   "cell_type": "code",
   "execution_count": 35,
   "id": "510bf696",
   "metadata": {},
   "outputs": [
    {
     "data": {
      "image/png": "[encoded data removed]",
      "text/plain": [
       "<Figure size 648x432 with 2 Axes>"
      ]
     },
     "metadata": {
      "needs_background": "light"
     },
     "output_type": "display_data"
    }
   ],
   "source": [
    "labeller = LabelEncoder()\n",
    "data.Temp_Description = labeller.fit_transform(data.Temp_Description)\n",
    "data.Type = labeller.fit_transform(data.Type)\n",
    "data.IsHoliday = labeller.fit_transform(data.IsHoliday)\n",
    "#### plotting correlation\n",
    "plt.figure(figsize=(9,6))\n",
    "sns.heatmap(data.corr())\n",
    "plt.show()"
   ]
  },
  {
   "cell_type": "code",
   "execution_count": 36,
   "id": "1b580fbc",
   "metadata": {},
   "outputs": [
    {
     "data": {
      "image/png": "[encoded data removed]",
      "text/plain": [
       "<Figure size 432x288 with 1 Axes>"
      ]
     },
     "metadata": {
      "needs_background": "light"
     },
     "output_type": "display_data"
    }
   ],
   "source": [
    "sns.boxplot(x='Weekly_Sales',data=data)\n",
    "plt.show()"
   ]
  },
  {
   "cell_type": "code",
   "execution_count": 37,
   "id": "e7b1a7fc",
   "metadata": {},
   "outputs": [],
   "source": [
    "data = data[data['Weekly_Sales']< 600000]\n",
    "X = data.drop(['Date','Weekly_Sales'],axis=1)\n",
    "y =data.Weekly_Sales"
   ]
  },
  {
   "cell_type": "markdown",
   "id": "8a858032",
   "metadata": {},
   "source": [
    "#### visualizing feature importances"
   ]
  },
  {
   "cell_type": "code",
   "execution_count": 38,
   "id": "653f6d89",
   "metadata": {},
   "outputs": [],
   "source": [
    "def features_importance(X, y):\n",
    "    scores = mutual_info_regression(X, y)\n",
    "    scores = pd.Series(scores, name=\"MI Scores\", index=X.columns) \n",
    "    scores = scores.sort_values(ascending=False)\n",
    "    return scores\n",
    "\n",
    "def plot_feature_importance(scores):\n",
    "    scores = scores.sort_values(ascending=True)\n",
    "    width = np.arange(len(scores))\n",
    "    ticks = list(scores.index)\n",
    "    plt.barh(width, scores)\n",
    "    plt.yticks(width, ticks)\n",
    "    plt.title(\"Feature Importances\")"
   ]
  },
  {
   "cell_type": "code",
   "execution_count": 40,
   "id": "47ef521a",
   "metadata": {},
   "outputs": [
    {
     "data": {
      "image/png": "[encoded data removed]",
      "text/plain": [
       "<Figure size 800x600 with 1 Axes>"
      ]
     },
     "metadata": {
      "needs_background": "light"
     },
     "output_type": "display_data"
    }
   ],
   "source": [
    "scores = features_importance(X, y)\n",
    "plt.figure(dpi=100, figsize=(8, 6))\n",
    "plot_feature_importance(scores)"
   ]
  },
  {
   "cell_type": "markdown",
   "id": "60e39335",
   "metadata": {},
   "source": [
    "IsHoliday has a score of 0.00000 but has effect on the models performance when removed"
   ]
  },
  {
   "cell_type": "code",
   "execution_count": 41,
   "id": "40f07a67",
   "metadata": {},
   "outputs": [],
   "source": [
    "X = scale(X)\n",
    "X_train,X_test,y_train,y_test = train_test_split(X,y,test_size=0.3,random_state=0)"
   ]
  },
  {
   "cell_type": "markdown",
   "id": "cba0115d",
   "metadata": {},
   "source": [
    "#### Tested a couple of other algorithms as well"
   ]
  },
  {
   "cell_type": "code",
   "execution_count": 53,
   "id": "35a66843",
   "metadata": {},
   "outputs": [],
   "source": [
    "def regressors_cv_scores(X,y):\n",
    "    models={'xgboost':XGBRegressor(),'ada':AdaBoostRegressor(),'rf':RandomForestRegressor(),\n",
    "           'xtra_tree':ExtraTreesRegressor()}\n",
    "    for model in models:\n",
    "        cv_scores = cross_val_score(models[model],X,y,scoring='r2',cv=5)\n",
    "        print(model,'cross validation score:', np.mean(cv_scores))"
   ]
  },
  {
   "cell_type": "code",
   "execution_count": 54,
   "id": "8d691899",
   "metadata": {},
   "outputs": [],
   "source": [
    "def regressor_Xtest_score(X_train,X_test,y_train,y_test):\n",
    "    models={'xgboost':XGBRegressor(),'ada':AdaBoostRegressor(),'rf':RandomForestRegressor(),\n",
    "           'xtra_tree':ExtraTreesRegressor()}\n",
    "    for x in models:\n",
    "        models[x].fit(X_train,y_train)\n",
    "        y_pred = models[x].predict(X_test)\n",
    "        print({x: r2_score(y_test,y_pred)})"
   ]
  },
  {
   "cell_type": "code",
   "execution_count": 55,
   "id": "8d3f6b46",
   "metadata": {},
   "outputs": [
    {
     "name": "stdout",
     "output_type": "stream",
     "text": [
      "xgboost cross validation score: 0.9402611708803403\n",
      "ada cross validation score: -0.2763874582836576\n",
      "rf cross validation score: 0.9725241106309657\n",
      "xtra_tree cross validation score: 0.970879237149551\n"
     ]
    }
   ],
   "source": [
    "regressor_cv_scores(X,y)"
   ]
  },
  {
   "cell_type": "code",
   "execution_count": 56,
   "id": "82b37d5e",
   "metadata": {},
   "outputs": [
    {
     "name": "stdout",
     "output_type": "stream",
     "text": [
      "{'xgboost': 0.9412803125388894}\n",
      "{'ada': -0.2126468394181007}\n",
      "{'rf': 0.9739081243123606}\n",
      "{'xtra_tree': 0.9729086331923085}\n"
     ]
    }
   ],
   "source": [
    "regressor_Xtest_score(X_train,X_test,y_train,y_test)"
   ]
  },
  {
   "cell_type": "markdown",
   "id": "b1a267e5",
   "metadata": {},
   "source": [
    "#### --- conclusion\n",
    "#### --- Random Forest r2 Score improved from 0.93 to 0.97 after feature engineering "
   ]
  },
  {
   "cell_type": "code",
   "execution_count": null,
   "id": "84a07482",
   "metadata": {},
   "outputs": [],
   "source": []
  }
 ],
 "metadata": {
  "kernelspec": {
   "display_name": "Python 3 (ipykernel)",
   "language": "python",
   "name": "python3"
  },
  "language_info": {
   "codemirror_mode": {
    "name": "ipython",
    "version": 3
   },
   "file_extension": ".py",
   "mimetype": "text/x-python",
   "name": "python",
   "nbconvert_exporter": "python",
   "pygments_lexer": "ipython3",
   "version": "3.9.7"
  }
 },
 "nbformat": 4,
 "nbformat_minor": 5
}
